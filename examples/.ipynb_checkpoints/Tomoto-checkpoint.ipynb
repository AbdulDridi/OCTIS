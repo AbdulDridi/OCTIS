{
 "cells": [
  {
   "cell_type": "code",
   "execution_count": 35,
   "metadata": {},
   "outputs": [],
   "source": [
    "import tomotopy as tp \n",
    "import os\n",
    "os.chdir(os.path.pardir)\n",
    "from dataset.dataset import Dataset\n",
    "import numpy as np"
   ]
  },
  {
   "cell_type": "code",
   "execution_count": 36,
   "metadata": {},
   "outputs": [
    {
     "data": {
      "text/plain": [
       "False"
      ]
     },
     "execution_count": 36,
     "metadata": {},
     "output_type": "execute_result"
    }
   ],
   "source": [
    "dataset = Dataset()\n",
    "dataset.load(\"preprocessed_datasets/newsgroup/newsgroup_lemmatized_10\")"
   ]
  },
  {
   "cell_type": "code",
   "execution_count": 21,
   "metadata": {},
   "outputs": [],
   "source": [
    "copu, test = dataset.get_partitioned_corpus()"
   ]
  },
  {
   "cell_type": "code",
   "execution_count": 88,
   "metadata": {},
   "outputs": [],
   "source": [
    "mdl = tp.LDAModel(k=5)"
   ]
  },
  {
   "cell_type": "code",
   "execution_count": 89,
   "metadata": {},
   "outputs": [],
   "source": [
    "for i in copu:\n",
    "    mdl.add_doc(i)"
   ]
  },
  {
   "cell_type": "code",
   "execution_count": 90,
   "metadata": {},
   "outputs": [],
   "source": [
    "mdl.train(10) #10 iteration"
   ]
  },
  {
   "cell_type": "code",
   "execution_count": 91,
   "metadata": {},
   "outputs": [],
   "source": [
    "topic_term_dists = np.stack([mdl.get_topic_word_dist(k) for k in range(mdl.k)]) #topic word distribution matrix\n",
    "doc_topic_dists = np.stack([doc.get_topic_dist() for doc in mdl.docs]) #topic document distribution matrix"
   ]
  },
  {
   "cell_type": "code",
   "execution_count": 92,
   "metadata": {},
   "outputs": [],
   "source": [
    "#estrazione topics\n",
    "final_topics = []\n",
    "for k in range(mdl.k):\n",
    "    topics = []\n",
    "    for word in mdl.get_topic_words(k):\n",
    "        topics.append(word[0])\n",
    "    final_topics.append(topics)"
   ]
  },
  {
   "cell_type": "code",
   "execution_count": 93,
   "metadata": {},
   "outputs": [
    {
     "data": {
      "text/plain": [
       "[['would',\n",
       "  'say',\n",
       "  'write',\n",
       "  'people',\n",
       "  'think',\n",
       "  'know',\n",
       "  'go',\n",
       "  'make',\n",
       "  'be',\n",
       "  'may'],\n",
       " ['would',\n",
       "  'line',\n",
       "  'write',\n",
       "  'post',\n",
       "  'know',\n",
       "  'be',\n",
       "  'get',\n",
       "  'make',\n",
       "  'think',\n",
       "  'use'],\n",
       " ['line',\n",
       "  'file',\n",
       "  'use',\n",
       "  'post',\n",
       "  'write',\n",
       "  'program',\n",
       "  'system',\n",
       "  'window',\n",
       "  'would',\n",
       "  'get'],\n",
       " ['line',\n",
       "  'would',\n",
       "  'write',\n",
       "  'post',\n",
       "  'key',\n",
       "  'use',\n",
       "  'article',\n",
       "  'know',\n",
       "  'government',\n",
       "  'also'],\n",
       " ['would',\n",
       "  'say',\n",
       "  'people',\n",
       "  'write',\n",
       "  'go',\n",
       "  'think',\n",
       "  'year',\n",
       "  'make',\n",
       "  'get',\n",
       "  'line']]"
      ]
     },
     "execution_count": 93,
     "metadata": {},
     "output_type": "execute_result"
    }
   ],
   "source": [
    "final_topics"
   ]
  },
  {
   "cell_type": "code",
   "execution_count": null,
   "metadata": {},
   "outputs": [],
   "source": [
    "#estrazione topics, e word topic distribution\n",
    "#for k in range(mdl.k):\n",
    "#    print('Topic #{}'.format(k))\n",
    "#    for word, prob in mdl.get_topic_words(k):\n",
    "#        print('\\t', word, prob, sep='\\t')"
   ]
  },
  {
   "cell_type": "code",
   "execution_count": 31,
   "metadata": {},
   "outputs": [],
   "source": [
    "#inference method\n",
    "doc_inst = [mdl.make_doc(i) for i in test]\n",
    "topic_dist, ll = mdl.infer(doc_inst) #topic document distribution"
   ]
  },
  {
   "cell_type": "code",
   "execution_count": 52,
   "metadata": {},
   "outputs": [
    {
     "data": {
      "text/plain": [
       "(1268,)"
      ]
     },
     "execution_count": 52,
     "metadata": {},
     "output_type": "execute_result"
    }
   ],
   "source": [
    "#topic_word_distribution\n",
    "mdl.get_topic_word_dist(3)"
   ]
  },
  {
   "cell_type": "code",
   "execution_count": 56,
   "metadata": {},
   "outputs": [
    {
     "data": {
      "text/plain": [
       "array([0.7372946 , 0.00156559, 0.00160987, 0.00167159, 0.00139334,\n",
       "       0.011901  , 0.01193171, 0.22951843, 0.00156525, 0.00154865],\n",
       "      dtype=float32)"
      ]
     },
     "execution_count": 56,
     "metadata": {},
     "output_type": "execute_result"
    }
   ],
   "source": [
    "np.asarray(topic_dist)[0]"
   ]
  },
  {
   "cell_type": "code",
   "execution_count": 70,
   "metadata": {},
   "outputs": [],
   "source": []
  },
  {
   "cell_type": "code",
   "execution_count": 75,
   "metadata": {},
   "outputs": [
    {
     "data": {
      "text/plain": [
       "(10758, 10)"
      ]
     },
     "execution_count": 75,
     "metadata": {},
     "output_type": "execute_result"
    }
   ],
   "source": [
    "topic_term_dists.shape\n",
    "doc_topic_dists.shape"
   ]
  },
  {
   "cell_type": "code",
   "execution_count": null,
   "metadata": {},
   "outputs": [],
   "source": []
  }
 ],
 "metadata": {
  "kernelspec": {
   "display_name": "Python 3",
   "language": "python",
   "name": "python3"
  },
  "language_info": {
   "codemirror_mode": {
    "name": "ipython",
    "version": 3
   },
   "file_extension": ".py",
   "mimetype": "text/x-python",
   "name": "python",
   "nbconvert_exporter": "python",
   "pygments_lexer": "ipython3",
   "version": "3.6.10"
  }
 },
 "nbformat": 4,
 "nbformat_minor": 4
}
