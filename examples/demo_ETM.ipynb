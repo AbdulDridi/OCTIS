{
 "cells": [
  {
   "cell_type": "code",
   "execution_count": 1,
   "metadata": {
    "collapsed": true
   },
   "outputs": [],
   "source": [
    "import os\n",
    "os.chdir(os.path.pardir)\n",
    "from dataset.dataset import Dataset\n",
    "from evaluation_metrics.diversity_metrics import Topic_diversity\n",
    "from evaluation_metrics.topic_significance_metrics import KL_uniform\n",
    "from skopt import gp_minimize, forest_minimize, dummy_minimize\n",
    "from optimization.optimizer import Optimizer\n",
    "from skopt.space.space import Real, Integer\n",
    "import multiprocessing as mp\n",
    "from models.ETM import main\n",
    "import torch\n",
    "import numpy as np"
   ]
  },
  {
   "cell_type": "code",
   "execution_count": 2,
   "outputs": [
    {
     "data": {
      "text/plain": "True"
     },
     "execution_count": 2,
     "metadata": {},
     "output_type": "execute_result"
    }
   ],
   "source": [
    "dataset = Dataset()\n",
    "dataset.load(\"preprocessed_datasets/newsgroup/newsgroup_lemmatized_10\")"
   ],
   "metadata": {
    "collapsed": false,
    "pycharm": {
     "name": "#%%\n"
    }
   }
  },
  {
   "cell_type": "code",
   "execution_count": 3,
   "outputs": [],
   "source": [
    "# Load model\n",
    "model = main.ETM_Wrapper()"
   ],
   "metadata": {
    "collapsed": false,
    "pycharm": {
     "name": "#%%\n"
    }
   }
  },
  {
   "cell_type": "code",
   "execution_count": 4,
   "outputs": [],
   "source": [
    "model.hyperparameters['epochs'] = 5"
   ],
   "metadata": {
    "collapsed": false,
    "pycharm": {
     "name": "#%%\n"
    }
   }
  },
  {
   "cell_type": "code",
   "execution_count": 5,
   "outputs": [
    {
     "name": "stdout",
     "output_type": "stream",
     "text": [
      "model: ETM(\n",
      "  (t_drop): Dropout(p=0.0, inplace=False)\n",
      "  (theta_act): ReLU()\n",
      "  (rho): Linear(in_features=300, out_features=1268, bias=False)\n",
      "  (alphas): Linear(in_features=300, out_features=10, bias=False)\n",
      "  (q_theta): Sequential(\n",
      "    (0): Linear(in_features=1268, out_features=800, bias=True)\n",
      "    (1): ReLU()\n",
      "    (2): Linear(in_features=800, out_features=800, bias=True)\n",
      "    (3): ReLU()\n",
      "  )\n",
      "  (mu_q_theta): Linear(in_features=800, out_features=10, bias=True)\n",
      "  (logsigma_q_theta): Linear(in_features=800, out_features=10, bias=True)\n",
      ")\n",
      "****************************************************************************************************\n",
      "Epoch----->1 .. LR: 0.005 .. KL_theta: 0.04 .. Rec_loss: 502.38 .. NELBO: 502.42\n",
      "****************************************************************************************************\n",
      "****************************************************************************************************\n",
      "Epoch----->2 .. LR: 0.005 .. KL_theta: 0.62 .. Rec_loss: 497.39 .. NELBO: 498.01\n",
      "****************************************************************************************************\n",
      "****************************************************************************************************\n",
      "Epoch----->3 .. LR: 0.005 .. KL_theta: 1.39 .. Rec_loss: 493.31 .. NELBO: 494.7\n",
      "****************************************************************************************************\n",
      "****************************************************************************************************\n",
      "Epoch----->4 .. LR: 0.005 .. KL_theta: 2.59 .. Rec_loss: 488.25 .. NELBO: 490.84\n",
      "****************************************************************************************************\n",
      "####################################################################################################\n",
      "Visualize topics...\n",
      "Topic 0: ['victim', 'method', 'past', 'card', 'generation', 'library', 'playoff', 'fire', 'search']\n",
      "Topic 1: ['school', 'card', 'encryption', 'victim', 'license', 'uunet', 'base', 'window', 'explanation']\n",
      "Topic 2: ['turn', 'playoff', 'thread', 'victim', 'library', 'be', 'guess', 'basis', 'attempt']\n",
      "Topic 3: ['turn', 'playoff', 'thread', 'victim', 'library', 'be', 'guess', 'basis', 'attempt']\n",
      "Topic 4: ['card', 'generation', 'victim', 'past', 'technical', 'license', 'uunet', 'method', 'library']\n",
      "Topic 5: ['victim', 'playoff', 'library', 'license', 'school', 'guess', 'turn', 'card', 'past']\n",
      "Topic 6: ['security', 'shipping', 'scale', 'son', 'mostly', 'screw', 'back', 'fire', 'time']\n",
      "Topic 7: ['generation', 'card', 'victim', 'method', 'past', 'hope', 'technical', 'military', 'search']\n",
      "Topic 8: ['turn', 'playoff', 'victim', 'thread', 'library', 'basis', 'guess', 'be', 'impossible']\n",
      "Topic 9: ['victim', 'card', 'generation', 'playoff', 'license', 'library', 'school', 'past', 'uunet']\n"
     ]
    },
    {
     "data": {
      "text/plain": "{'topics': [['victim',\n   'method',\n   'past',\n   'card',\n   'generation',\n   'library',\n   'playoff',\n   'fire',\n   'search'],\n  ['school',\n   'card',\n   'encryption',\n   'victim',\n   'license',\n   'uunet',\n   'base',\n   'window',\n   'explanation'],\n  ['turn',\n   'playoff',\n   'thread',\n   'victim',\n   'library',\n   'be',\n   'guess',\n   'basis',\n   'attempt'],\n  ['turn',\n   'playoff',\n   'thread',\n   'victim',\n   'library',\n   'be',\n   'guess',\n   'basis',\n   'attempt'],\n  ['card',\n   'generation',\n   'victim',\n   'past',\n   'technical',\n   'license',\n   'uunet',\n   'method',\n   'library'],\n  ['victim',\n   'playoff',\n   'library',\n   'license',\n   'school',\n   'guess',\n   'turn',\n   'card',\n   'past'],\n  ['security',\n   'shipping',\n   'scale',\n   'son',\n   'mostly',\n   'screw',\n   'back',\n   'fire',\n   'time'],\n  ['generation',\n   'card',\n   'victim',\n   'method',\n   'past',\n   'hope',\n   'technical',\n   'military',\n   'search'],\n  ['turn',\n   'playoff',\n   'victim',\n   'thread',\n   'library',\n   'basis',\n   'guess',\n   'be',\n   'impossible'],\n  ['victim',\n   'card',\n   'generation',\n   'playoff',\n   'license',\n   'library',\n   'school',\n   'past',\n   'uunet']],\n 'topic-word-matrix': array([[3.88013315e-04, 1.15858379e-03, 2.92135373e-04, ...,\n         1.54103240e-04, 9.22409759e-04, 3.61286133e-04],\n        [8.23519775e-04, 1.03121263e-03, 5.45401650e-04, ...,\n         4.72584361e-04, 8.34693899e-04, 2.15001474e-03],\n        [1.02875332e-04, 2.20034737e-03, 1.57251241e-04, ...,\n         1.05252555e-04, 8.31016223e-04, 9.84235157e-05],\n        ...,\n        [3.37476784e-04, 6.23548694e-04, 4.33816633e-04, ...,\n         2.63663678e-04, 9.94739123e-04, 5.71079843e-04],\n        [2.05910328e-04, 2.30410090e-03, 2.75000551e-04, ...,\n         2.06353638e-04, 1.10525824e-03, 2.64532573e-04],\n        [3.09095252e-04, 1.01662753e-03, 4.75560810e-04, ...,\n         3.18991864e-04, 1.30595290e-03, 6.76434196e-04]], dtype=float32),\n 'topic-document-matrix': array([[0.03770136, 0.03760502, 0.05397988, ..., 0.02531102, 0.04638873,\n         0.03016059],\n        [0.03924669, 0.05864854, 0.16743718, ..., 0.02756213, 0.10180369,\n         0.04147825],\n        [0.12411534, 0.05476955, 0.05592568, ..., 0.19921467, 0.05881762,\n         0.12368005],\n        ...,\n        [0.08750463, 0.11318428, 0.04587623, ..., 0.18162288, 0.05982454,\n         0.14164239],\n        [0.06504904, 0.2520021 , 0.10741834, ..., 0.05156481, 0.10541455,\n         0.07869265],\n        [0.10212706, 0.06829239, 0.12060574, ..., 0.1033246 , 0.09306818,\n         0.10295583]], dtype=float32)}"
     },
     "execution_count": 5,
     "metadata": {},
     "output_type": "execute_result"
    }
   ],
   "source": [
    "model.train_model(dataset, model.hyperparameters)\n",
    "\n",
    "\n"
   ],
   "metadata": {
    "collapsed": false,
    "pycharm": {
     "name": "#%%\n"
    }
   }
  }
 ],
 "metadata": {
  "kernelspec": {
   "name": "python3",
   "language": "python",
   "display_name": "Python 3"
  },
  "language_info": {
   "codemirror_mode": {
    "name": "ipython",
    "version": 2
   },
   "file_extension": ".py",
   "mimetype": "text/x-python",
   "name": "python",
   "nbconvert_exporter": "python",
   "pygments_lexer": "ipython2",
   "version": "2.7.6"
  }
 },
 "nbformat": 4,
 "nbformat_minor": 0
}