{
 "cells": [
  {
   "cell_type": "code",
   "execution_count": 1,
   "metadata": {
    "collapsed": true,
    "pycharm": {
     "is_executing": false
    }
   },
   "outputs": [],
   "source": [
    "import os\n",
    "os.chdir(os.path.pardir)\n",
    "from models.LDA import LDA_Model\n",
    "from dataset.dataset import Dataset\n",
    "from evaluation_metrics.diversity_metrics import Topic_diversity\n",
    "from evaluation_metrics.topic_significance_metrics import KL_vacuous"
   ]
  },
  {
   "cell_type": "code",
   "execution_count": 2,
   "outputs": [
    {
     "output_type": "execute_result",
     "data": {
      "text/plain": "True"
     },
     "metadata": {},
     "execution_count": 2
    }
   ],
   "source": [
    "# Define dataset\n",
    "dataset = Dataset()\n",
    "dataset.load(\"preprocessed_datasets/newsgroup/newsgroup_lemmatized_10\")"
   ],
   "metadata": {
    "collapsed": false,
    "pycharm": {
     "name": "#%%\n",
     "is_executing": false
    }
   }
  },
  {
   "cell_type": "code",
   "execution_count": 3,
   "outputs": [],
   "source": [
    "# Set hyperparameters \n",
    "hyperparameters = {}\n",
    "hyperparameters[\"num_topics\"] = 20"
   ],
   "metadata": {
    "collapsed": false,
    "pycharm": {
     "name": "#%%\n",
     "is_executing": false
    }
   }
  },
  {
   "cell_type": "code",
   "execution_count": 4,
   "outputs": [],
   "source": [
    "# Train model\n",
    "model = LDA_Model()  # Create model\n",
    "output = model.train_model(dataset, hyperparameters)  # Train the model"
   ],
   "metadata": {
    "collapsed": false,
    "pycharm": {
     "name": "#%%\n",
     "is_executing": false
    }
   }
  },
  {
   "cell_type": "code",
   "execution_count": 5,
   "outputs": [
    {
     "output_type": "stream",
     "name": "stdout",
     "text": "[[2.2205010e-03 1.6154567e-03 2.8820070e-05 ... 4.5699113e-07\n  4.5698096e-07 4.5700949e-07]\n [2.9699053e-04 1.5231849e-04 1.1168165e-04 ... 4.9300002e-07\n  4.9294607e-07 4.9300945e-07]\n [5.2036875e-04 2.8028153e-03 1.9098740e-04 ... 1.1200794e-06\n  1.1201488e-06 1.1201779e-06]\n ...\n [2.0973207e-04 5.6216720e-04 1.9710036e-05 ... 4.8284625e-07\n  4.8285017e-07 4.8285926e-07]\n [9.2035980e-04 6.8519491e-04 3.1849861e-05 ... 1.3199890e-06\n  1.3200065e-06 1.3199805e-06]\n [6.0840574e-04 6.5021694e-04 2.3266814e-04 ... 1.0499281e-06\n  1.0499271e-06 1.0506541e-06]]\n(20, 1267)\n"
    }
   ],
   "source": [
    "# Print topic word matrix\n",
    "print(output[\"topic-word-matrix\"])\n",
    "print(output[\"topic-word-matrix\"].shape)"
   ],
   "metadata": {
    "collapsed": false,
    "pycharm": {
     "name": "#%%\n",
     "is_executing": false
    }
   }
  },
  {
   "cell_type": "code",
   "execution_count": 6,
   "outputs": [],
   "source": [
    "# Set topic diversity parameters\n",
    "td_parameters ={\n",
    "    'topk':10\n",
    "}"
   ],
   "metadata": {
    "collapsed": false,
    "pycharm": {
     "name": "#%%\n"
    }
   }
  },
  {
   "cell_type": "code",
   "execution_count": 7,
   "metadata": {},
   "outputs": [
    {
     "output_type": "stream",
     "name": "stdout",
     "text": "Topic diversity: 0.51\nKL Vacuous: 0.614818847535473\n"
    }
   ],
   "source": [
    "# Retrieve metrics score\n",
    "topic_diversity = Topic_diversity(td_parameters)\n",
    "topic_diversity_score = topic_diversity.score(output)\n",
    "print(\"Topic diversity: \"+str(topic_diversity_score))\n",
    "\n",
    "KL_vacuous = KL_vacuous()\n",
    "KL_vacuous_score = KL_vacuous.score(output)\n",
    "print(\"KL Vacuous: \"+str(KL_vacuous_score))"
   ]
  }
 ],
 "metadata": {
  "kernelspec": {
   "display_name": "Python 3.7.5 64-bit",
   "language": "python",
   "name": "python37564bit9170f91cad174477b32d1c793686de17"
  },
  "language_info": {
   "codemirror_mode": {
    "name": "ipython",
    "version": 2
   },
   "file_extension": ".py",
   "mimetype": "text/x-python",
   "name": "python",
   "nbconvert_exporter": "python",
   "pygments_lexer": "ipython2",
   "version": "3.7.5-final"
  },
  "pycharm": {
   "stem_cell": {
    "cell_type": "raw",
    "source": [],
    "metadata": {
     "collapsed": false
    }
   }
  }
 },
 "nbformat": 4,
 "nbformat_minor": 0
}