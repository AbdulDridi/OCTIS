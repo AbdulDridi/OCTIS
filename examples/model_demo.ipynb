{
 "cells": [
  {
   "cell_type": "code",
   "execution_count": 2,
   "metadata": {
    "collapsed": true,
    "pycharm": {
     "is_executing": false
    }
   },
   "outputs": [],
   "source": [
    "import os\n",
    "os.chdir(os.path.pardir)\n",
    "from models.NMF import NMF_Model\n",
    "from dataset.dataset import Dataset\n",
    "from evaluation_metrics.diversity_metrics import Topic_diversity\n",
    "from evaluation_metrics.topic_significance_metrics import KL_vacuous"
   ]
  },
  {
   "cell_type": "code",
   "execution_count": 10,
   "outputs": [
    {
     "output_type": "execute_result",
     "data": {
      "text/plain": "True"
     },
     "metadata": {},
     "execution_count": 10
    }
   ],
   "source": [
    "# Define dataset\n",
    "dataset = Dataset()\n",
    "dataset.load(\"preprocessed_datasets/newsgroup/newsgroup_lemmatized_10\")"
   ],
   "metadata": {
    "collapsed": false,
    "pycharm": {
     "name": "#%%\n",
     "is_executing": false
    }
   }
  },
  {
   "cell_type": "code",
   "execution_count": 11,
   "outputs": [],
   "source": [
    "# Set hyperparameters \n",
    "hyperparameters = {}\n",
    "hyperparameters[\"num_topics\"] = 20"
   ],
   "metadata": {
    "collapsed": false,
    "pycharm": {
     "name": "#%%\n",
     "is_executing": false
    }
   }
  },
  {
   "cell_type": "code",
   "execution_count": 12,
   "outputs": [
    {
     "output_type": "execute_result",
     "data": {
      "text/plain": "True"
     },
     "metadata": {},
     "execution_count": 12
    }
   ],
   "source": [
    "# Train model\n",
    "model = NMF_Model(dataset, hyperparameters)  # Create model\n",
    "model.train_model()  # Train the model"
   ],
   "metadata": {
    "collapsed": false,
    "pycharm": {
     "name": "#%%\n",
     "is_executing": false
    }
   }
  },
  {
   "cell_type": "code",
   "execution_count": 13,
   "outputs": [
    {
     "output_type": "stream",
     "name": "stdout",
     "text": "[[2.03412496e-03 3.85889135e-03 0.00000000e+00 ... 0.00000000e+00\n  0.00000000e+00 0.00000000e+00]\n [0.00000000e+00 2.28457213e-04 0.00000000e+00 ... 0.00000000e+00\n  0.00000000e+00 1.77155526e-03]\n [6.25914897e-04 1.15091214e-03 6.07610691e-05 ... 3.57170658e-03\n  7.26475874e-04 0.00000000e+00]\n ...\n [1.00179431e-03 0.00000000e+00 2.20270066e-04 ... 2.10480498e-03\n  0.00000000e+00 0.00000000e+00]\n [0.00000000e+00 9.57036740e-04 0.00000000e+00 ... 0.00000000e+00\n  7.22293106e-04 0.00000000e+00]\n [1.53767594e-03 3.84693432e-03 0.00000000e+00 ... 0.00000000e+00\n  1.17295748e-03 0.00000000e+00]]\n(20, 1267)\n"
    }
   ],
   "source": [
    "topic_word_matrix = model.get_word_topic_weights()  # Compute topic word matrix\n",
    "\n",
    "print(topic_word_matrix)\n",
    "print(topic_word_matrix.shape)"
   ],
   "metadata": {
    "collapsed": false,
    "pycharm": {
     "name": "#%%\n",
     "is_executing": false
    }
   }
  },
  {
   "cell_type": "code",
   "execution_count": 14,
   "outputs": [],
   "source": [
    "# Set parameters to retrieve metrics score\n",
    "topk = 10\n",
    "model_output = model.get_output(topk)\n",
    "\n",
    "# Set topic diversity parameters\n",
    "td_parameters ={\n",
    "    'topk':topk\n",
    "}"
   ],
   "metadata": {
    "collapsed": false,
    "pycharm": {
     "name": "#%%\n"
    }
   }
  },
  {
   "cell_type": "code",
   "execution_count": 15,
   "metadata": {},
   "outputs": [
    {
     "output_type": "stream",
     "name": "stdout",
     "text": "Topic diversity: 0.585\nKL Vacuous: 1.2571755878240118\n"
    }
   ],
   "source": [
    "# Retrieve metrics score\n",
    "topic_diversity = Topic_diversity(td_parameters)\n",
    "topic_diversity_score = topic_diversity.score(model_output)\n",
    "print(\"Topic diversity: \"+str(topic_diversity_score))\n",
    "\n",
    "KL_vacuous = KL_vacuous()\n",
    "KL_vacuous_score = KL_vacuous.score(model_output)\n",
    "print(\"KL Vacuous: \"+str(KL_vacuous_score))"
   ]
  }
 ],
 "metadata": {
  "kernelspec": {
   "display_name": "Python 3.7.5 64-bit",
   "language": "python",
   "name": "python37564bit9170f91cad174477b32d1c793686de17"
  },
  "language_info": {
   "codemirror_mode": {
    "name": "ipython",
    "version": 2
   },
   "file_extension": ".py",
   "mimetype": "text/x-python",
   "name": "python",
   "nbconvert_exporter": "python",
   "pygments_lexer": "ipython2",
   "version": "3.7.5-final"
  },
  "pycharm": {
   "stem_cell": {
    "cell_type": "raw",
    "source": [],
    "metadata": {
     "collapsed": false
    }
   }
  }
 },
 "nbformat": 4,
 "nbformat_minor": 0
}