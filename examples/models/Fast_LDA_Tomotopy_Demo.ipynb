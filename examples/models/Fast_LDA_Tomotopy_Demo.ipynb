{
 "cells": [
  {
   "cell_type": "code",
   "execution_count": 2,
   "metadata": {},
   "outputs": [],
   "source": [
    "import os\n",
    "os.chdir(os.path.pardir)\n",
    "from dataset.dataset import Dataset\n",
    "from evaluation_metrics.diversity_metrics import Topic_diversity\n",
    "from evaluation_metrics.topic_significance_metrics import KL_uniform\n",
    "from skopt import gp_minimize, forest_minimize, dummy_minimize\n",
    "from optimization.optimizer import Optimizer\n",
    "from skopt.space.space import Real, Integer\n",
    "import multiprocessing as mp\n",
    "from models import TomoLDA"
   ]
  },
  {
   "cell_type": "code",
   "execution_count": 3,
   "metadata": {},
   "outputs": [
    {
     "data": {
      "text/plain": [
       "True"
      ]
     },
     "execution_count": 3,
     "metadata": {},
     "output_type": "execute_result"
    }
   ],
   "source": [
    "dataset = Dataset()\n",
    "dataset.load(\"preprocessed_datasets/newsgroup/newsgroup_lemmatized_10\")"
   ]
  },
  {
   "cell_type": "code",
   "execution_count": 4,
   "metadata": {},
   "outputs": [],
   "source": [
    "# Load model\n",
    "model = TomoLDA.FastLDA()"
   ]
  },
  {
   "cell_type": "code",
   "execution_count": 8,
   "metadata": {},
   "outputs": [],
   "source": [
    "model.hyperparameters['num_topics'] = 10\n",
    "model.hyperparameters['max_iter'] = 10\n",
    "#hyperparameter of Dirichlet distribution for document-topic\n",
    "model.hyperparameters['alpha'] = .3\n",
    "#hyperparameter of Dirichlet distribution for topic-word\n",
    "model.hyperparameters['eta'] = .02\n",
    "#minimum collection frequency of words\n",
    "model.hyperparameters['min_cf'] = 1\n",
    "#minimum document frequency of words\n",
    "model.hyperparameters['min_df'] = 1\n",
    "#the number of top words to be removed\n",
    "model.hyperparameters['rm_top'] = 1"
   ]
  },
  {
   "cell_type": "code",
   "execution_count": 9,
   "metadata": {},
   "outputs": [],
   "source": [
    "model.partitioning(True)"
   ]
  },
  {
   "cell_type": "code",
   "execution_count": 10,
   "metadata": {
    "pycharm": {
     "name": "#%%\n"
    }
   },
   "outputs": [
    {
     "data": {
      "text/plain": [
       "{'topics': array([['people', 'would', 'write', 'say', 'know', 'article', 'think',\n",
       "         'make', 'question', 'man'],\n",
       "        ['would', 'write', 'line', 'article', 'people', 'make', 'may',\n",
       "         'post', 'time', 'know'],\n",
       "        ['say', 'people', 'think', 'know', 'would', 'come', 'see',\n",
       "         'write', 'take', 'go'],\n",
       "        ['would', 'write', 'line', 'know', 'post', 'think', 'go', 'get',\n",
       "         'see', 'be'],\n",
       "        ['would', 'go', 'write', 'be', 'say', 'get', 'car', 'think',\n",
       "         'make', 'people'],\n",
       "        ['line', 'post', 'use', 'card', 'system', 'space', 'would', 'may',\n",
       "         'work', 'mail'],\n",
       "        ['key', 'file', 'system', 'use', 'law', 'encryption',\n",
       "         'information', 'government', 'may', 'number'],\n",
       "        ['game', 'line', 'would', 'team', 'get', 'year', 'good', 'play',\n",
       "         'go', 'write'],\n",
       "        ['would', 'write', 'say', 'people', 'know', 'may', 'make',\n",
       "         'claim', 'line', 'must'],\n",
       "        ['window', 'drive', 'line', 'use', 'file', 'post', 'system',\n",
       "         'problem', 'program', 'work']], dtype='<U11'),\n",
       " 'topic-document-matrix': array([[0.25056732, 0.06769839, 0.54272676, ..., 0.00212481, 0.11149739,\n",
       "         0.00953242],\n",
       "        [0.532287  , 0.03673757, 0.00298628, ..., 0.11583814, 0.07043216,\n",
       "         0.00342639],\n",
       "        [0.01069275, 0.00982467, 0.41976187, ..., 0.0480954 , 0.4567146 ,\n",
       "         0.01134209],\n",
       "        ...,\n",
       "        [0.00533022, 0.02347196, 0.06065107, ..., 0.00540058, 0.22766736,\n",
       "         0.24712199],\n",
       "        [0.16649133, 0.33926228, 0.05704156, ..., 0.10279521, 0.06607048,\n",
       "         0.0027713 ],\n",
       "        [0.00612684, 0.00562944, 0.00566413, ..., 0.19836207, 0.02683769,\n",
       "         0.1559523 ]], dtype=float32),\n",
       " 'test-topic-document-matrix': array([[0.00293308, 0.00269496, 0.00271157, ..., 0.12562434, 0.37058455,\n",
       "         0.0031112 ],\n",
       "        [0.19869813, 0.0042639 , 0.02046163, ..., 0.0047019 , 0.4084426 ,\n",
       "         0.05343683],\n",
       "        [0.36135176, 0.00757425, 0.48709294, ..., 0.00773659, 0.05548522,\n",
       "         0.00781834],\n",
       "        ...,\n",
       "        [0.4975982 , 0.05951543, 0.00483781, ..., 0.00530209, 0.0046867 ,\n",
       "         0.04202231],\n",
       "        [0.04774974, 0.1345733 , 0.00385391, ..., 0.00422376, 0.00373353,\n",
       "         0.20779988],\n",
       "        [0.02073844, 0.59720045, 0.01917223, ..., 0.02101218, 0.09084158,\n",
       "         0.02199784]], dtype=float32)}"
      ]
     },
     "execution_count": 10,
     "metadata": {},
     "output_type": "execute_result"
    }
   ],
   "source": [
    "model.train_model(dataset, model.hyperparameters,\n",
    "                  topic_word_matrix=False,\n",
    "                    topic_document_matrix=True)"
   ]
  },
  {
   "cell_type": "code",
   "execution_count": null,
   "metadata": {},
   "outputs": [],
   "source": []
  }
 ],
 "metadata": {
  "kernelspec": {
   "display_name": "Python 3",
   "language": "python",
   "name": "python3"
  },
  "language_info": {
   "codemirror_mode": {
    "name": "ipython",
    "version": 3
   },
   "file_extension": ".py",
   "mimetype": "text/x-python",
   "name": "python",
   "nbconvert_exporter": "python",
   "pygments_lexer": "ipython3",
   "version": "3.7.0"
  }
 },
 "nbformat": 4,
 "nbformat_minor": 4
}
