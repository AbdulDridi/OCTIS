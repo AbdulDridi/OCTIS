{
 "cells": [
  {
   "cell_type": "code",
   "execution_count": 1,
   "metadata": {
    "collapsed": true,
    "pycharm": {
     "is_executing": false
    }
   },
   "outputs": [],
   "source": [
    "import os\n",
    "os.chdir('..')\n",
    "os.chdir('..')\n",
    "from models.LDA import LDA_Model\n",
    "from dataset.dataset import Dataset\n",
    "from evaluation_metrics.diversity_metrics import Topic_diversity\n",
    "from evaluation_metrics.topic_significance_metrics import KL_vacuous"
   ]
  },
  {
   "cell_type": "code",
   "execution_count": 2,
   "outputs": [
    {
     "output_type": "execute_result",
     "data": {
      "text/plain": "True"
     },
     "metadata": {},
     "execution_count": 2
    }
   ],
   "source": [
    "# Define dataset\n",
    "dataset = Dataset()\n",
    "dataset.load(\"preprocessed_datasets/newsgroup/newsgroup_lemmatized_10\")"
   ],
   "metadata": {
    "collapsed": false,
    "pycharm": {
     "name": "#%%\n",
     "is_executing": false
    }
   }
  },
  {
   "cell_type": "code",
   "execution_count": 3,
   "outputs": [],
   "source": [
    "# Set hyperparameters \n",
    "hyperparameters = {}\n",
    "hyperparameters[\"num_topics\"] = 20"
   ],
   "metadata": {
    "collapsed": false,
    "pycharm": {
     "name": "#%%\n",
     "is_executing": false
    }
   }
  },
  {
   "cell_type": "code",
   "execution_count": 4,
   "outputs": [],
   "source": [
    "# Create Model\n",
    "model = LDA_Model()\n"
   ],
   "metadata": {
    "collapsed": false,
    "pycharm": {
     "name": "#%%\n",
     "is_executing": false
    }
   }
  },
  {
   "cell_type": "code",
   "execution_count": 5,
   "metadata": {},
   "outputs": [
    {
     "output_type": "stream",
     "name": "stdout",
     "text": "topic-word-matrix\ntopics\ntopic-document-matrix\ntest-document-topic-matrix\n"
    }
   ],
   "source": [
    "# Train the model using default partitioning choice\n",
    "output = model.train_model(dataset, hyperparameters)\n",
    "\n",
    "print(*list(output.keys()), sep=\"\\n\") # Print the output identifiers"
   ]
  },
  {
   "cell_type": "code",
   "execution_count": 6,
   "outputs": [
    {
     "output_type": "stream",
     "name": "stdout",
     "text": "[[4.4198098e-04 2.2529232e-05 8.2011298e-05 ... 6.4910637e-07\n  6.4908460e-07 6.4915071e-07]\n [4.5709717e-04 1.1852828e-03 1.1615485e-04 ... 4.1207395e-06\n  4.1200956e-06 4.1207204e-06]\n [1.0449177e-03 2.3944753e-05 5.1292104e-06 ... 4.3377349e-06\n  4.3369459e-06 4.3378413e-06]\n ...\n [3.8405627e-04 1.2285409e-03 5.4134021e-04 ... 3.8951848e-06\n  3.8951207e-06 3.8958583e-06]\n [3.3175894e-03 1.3764692e-03 5.4260285e-04 ... 5.8962587e-07\n  5.8965884e-07 5.8968106e-07]\n [1.9968172e-04 6.5343476e-05 6.9873082e-04 ... 3.0159772e-06\n  3.0155320e-06 3.0156652e-06]]\n(20, 1268)\n"
    }
   ],
   "source": [
    "# Print topic word matrix\n",
    "print(output[\"topic-word-matrix\"])\n",
    "print(output[\"topic-word-matrix\"].shape)"
   ],
   "metadata": {
    "collapsed": false,
    "pycharm": {
     "name": "#%%\n",
     "is_executing": false
    }
   }
  },
  {
   "cell_type": "code",
   "execution_count": 7,
   "outputs": [],
   "source": [
    "# Set topic diversity parameters\n",
    "td_parameters ={\n",
    "    'topk':10\n",
    "}\n",
    "\n",
    "# Initialize metrics\n",
    "topic_diversity = Topic_diversity(td_parameters)\n",
    "\n",
    "KL_vacuous = KL_vacuous()"
   ],
   "metadata": {
    "collapsed": false,
    "pycharm": {
     "name": "#%%\n"
    }
   }
  },
  {
   "cell_type": "code",
   "execution_count": 8,
   "metadata": {},
   "outputs": [
    {
     "output_type": "stream",
     "name": "stdout",
     "text": "Topic diversity: 0.515\nKL Vacuous: 0.5786877971711533\n"
    }
   ],
   "source": [
    "# Retrieve metrics score\n",
    "topic_diversity_score = topic_diversity.score(output)\n",
    "print(\"Topic diversity: \"+str(topic_diversity_score))\n",
    "\n",
    "\n",
    "KL_vacuous_score = KL_vacuous.score(output)\n",
    "print(\"KL Vacuous: \"+str(KL_vacuous_score))"
   ]
  },
  {
   "cell_type": "code",
   "execution_count": 9,
   "metadata": {},
   "outputs": [
    {
     "output_type": "stream",
     "name": "stdout",
     "text": "topic-word-matrix\ntopics\ntopic-document-matrix\n"
    }
   ],
   "source": [
    "# Train the model using the whole dataset as a training set\n",
    "model.partitioning(False)\n",
    "output = model.train_model(dataset, hyperparameters)\n",
    "\n",
    "print(*list(output.keys()), sep=\"\\n\") # Print the output identifiers"
   ]
  },
  {
   "cell_type": "code",
   "execution_count": 10,
   "metadata": {},
   "outputs": [
    {
     "output_type": "stream",
     "name": "stdout",
     "text": "Topic diversity: 0.535\nKL Vacuous: 0.6431257256667261\n"
    }
   ],
   "source": [
    "# Retrieve metrics score\n",
    "topic_diversity_score = topic_diversity.score(output)\n",
    "print(\"Topic diversity: \"+str(topic_diversity_score))\n",
    "\n",
    "\n",
    "KL_vacuous_score = KL_vacuous.score(output)\n",
    "print(\"KL Vacuous: \"+str(KL_vacuous_score))"
   ]
  }
 ],
 "metadata": {
  "kernelspec": {
   "display_name": "Python 3.7.5 64-bit",
   "language": "python",
   "name": "python37564bit9170f91cad174477b32d1c793686de17"
  },
  "language_info": {
   "codemirror_mode": {
    "name": "ipython",
    "version": 2
   },
   "file_extension": ".py",
   "mimetype": "text/x-python",
   "name": "python",
   "nbconvert_exporter": "python",
   "pygments_lexer": "ipython2",
   "version": "3.7.5-final"
  },
  "pycharm": {
   "stem_cell": {
    "cell_type": "raw",
    "source": [],
    "metadata": {
     "collapsed": false
    }
   }
  }
 },
 "nbformat": 4,
 "nbformat_minor": 0
}