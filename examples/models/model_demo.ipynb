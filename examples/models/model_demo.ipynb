{
 "cells": [
  {
   "cell_type": "code",
   "execution_count": 1,
   "metadata": {
    "collapsed": true
   },
   "outputs": [],
   "source": [
    "import os\n",
    "os.chdir('..')\n",
    "os.chdir('..')\n",
    "from models.NMF import NMF_gensim\n",
    "from dataset.dataset import Dataset\n",
    "from evaluation_metrics.diversity_metrics import Topic_diversity\n",
    "from evaluation_metrics.topic_significance_metrics import KL_vacuous"
   ]
  },
  {
   "cell_type": "code",
   "execution_count": 2,
   "metadata": {
    "collapsed": false,
    "pycharm": {
     "name": "#%%\n"
    }
   },
   "outputs": [
    {
     "data": {
      "text/plain": [
       "True"
      ]
     },
     "execution_count": 2,
     "metadata": {},
     "output_type": "execute_result"
    }
   ],
   "source": [
    "# Define dataset\n",
    "dataset = Dataset()\n",
    "dataset.load(\"preprocessed_datasets/newsgroup/newsgroup_lemmatized_10\")"
   ]
  },
  {
   "cell_type": "code",
   "execution_count": 3,
   "metadata": {
    "collapsed": false,
    "pycharm": {
     "name": "#%%\n"
    }
   },
   "outputs": [],
   "source": [
    "# Set hyperparameters \n",
    "hyperparameters = {}\n",
    "hyperparameters[\"num_topics\"] = 10"
   ]
  },
  {
   "cell_type": "code",
   "execution_count": 4,
   "metadata": {
    "collapsed": false,
    "pycharm": {
     "name": "#%%\n"
    }
   },
   "outputs": [],
   "source": [
    "# Create Model\n",
    "model = NMF_gensim()\n"
   ]
  },
  {
   "cell_type": "code",
   "execution_count": 5,
   "metadata": {},
   "outputs": [
    {
     "name": "stdout",
     "output_type": "stream",
     "text": [
      "topic-word-matrix\n",
      "topics\n",
      "topic-document-matrix\n",
      "test-document-topic-matrix\n"
     ]
    }
   ],
   "source": [
    "# Train the model using default partitioning choice\n",
    "output = model.train_model(dataset, hyperparameters)\n",
    "\n",
    "print(*list(output.keys()), sep=\"\\n\") # Print the output identifiers"
   ]
  },
  {
   "cell_type": "code",
   "execution_count": 6,
   "metadata": {
    "collapsed": false,
    "pycharm": {
     "name": "#%%\n"
    }
   },
   "outputs": [
    {
     "name": "stdout",
     "output_type": "stream",
     "text": [
      "[[1.40025575e-03 1.55249148e-03 2.63161361e-04 ... 5.78958281e-04\n",
      "  0.00000000e+00 0.00000000e+00]\n",
      " [2.75250444e-03 2.35603157e-03 9.46625142e-04 ... 0.00000000e+00\n",
      "  1.27293192e-03 1.41537899e-05]\n",
      " [4.58137925e-04 1.30338789e-04 4.66834052e-04 ... 0.00000000e+00\n",
      "  0.00000000e+00 3.02242041e-04]\n",
      " ...\n",
      " [0.00000000e+00 1.41875097e-04 4.56228044e-04 ... 1.31806670e-03\n",
      "  0.00000000e+00 3.99965993e-04]\n",
      " [7.07173928e-04 0.00000000e+00 0.00000000e+00 ... 0.00000000e+00\n",
      "  0.00000000e+00 0.00000000e+00]\n",
      " [1.74635344e-03 0.00000000e+00 0.00000000e+00 ... 0.00000000e+00\n",
      "  0.00000000e+00 8.31077746e-04]]\n",
      "(10, 1268)\n"
     ]
    }
   ],
   "source": [
    "# Print topic word matrix\n",
    "print(output[\"topic-word-matrix\"])\n",
    "print(output[\"topic-word-matrix\"].shape)"
   ]
  },
  {
   "cell_type": "code",
   "execution_count": 7,
   "metadata": {
    "collapsed": false,
    "pycharm": {
     "name": "#%%\n"
    }
   },
   "outputs": [],
   "source": [
    "# Set topic diversity parameters\n",
    "td_parameters ={\n",
    "    'topk':10\n",
    "}\n",
    "\n",
    "# Initialize metrics\n",
    "topic_diversity = Topic_diversity(td_parameters)\n",
    "\n",
    "KL_vacuous = KL_vacuous()"
   ]
  },
  {
   "cell_type": "code",
   "execution_count": 8,
   "metadata": {},
   "outputs": [
    {
     "name": "stdout",
     "output_type": "stream",
     "text": [
      "Topic diversity: 0.73\n",
      "KL Vacuous: 1.0829291321665007\n"
     ]
    }
   ],
   "source": [
    "# Retrieve metrics score\n",
    "topic_diversity_score = topic_diversity.score(output)\n",
    "print(\"Topic diversity: \"+str(topic_diversity_score))\n",
    "\n",
    "\n",
    "KL_vacuous_score = KL_vacuous.score(output)\n",
    "print(\"KL Vacuous: \"+str(KL_vacuous_score))"
   ]
  },
  {
   "cell_type": "code",
   "execution_count": 9,
   "metadata": {},
   "outputs": [
    {
     "name": "stdout",
     "output_type": "stream",
     "text": [
      "topic-word-matrix\n",
      "topics\n",
      "topic-document-matrix\n"
     ]
    }
   ],
   "source": [
    "# Train the model using the whole dataset as a training set\n",
    "model.partitioning(False)\n",
    "output = model.train_model(dataset, hyperparameters)\n",
    "\n",
    "print(*list(output.keys()), sep=\"\\n\") # Print the output identifiers"
   ]
  },
  {
   "cell_type": "code",
   "execution_count": 10,
   "metadata": {},
   "outputs": [
    {
     "name": "stdout",
     "output_type": "stream",
     "text": [
      "Topic diversity: 0.73\n",
      "KL Vacuous: 1.0693222255357901\n"
     ]
    }
   ],
   "source": [
    "# Retrieve metrics score\n",
    "topic_diversity_score = topic_diversity.score(output)\n",
    "print(\"Topic diversity: \"+str(topic_diversity_score))\n",
    "\n",
    "\n",
    "KL_vacuous_score = KL_vacuous.score(output)\n",
    "print(\"KL Vacuous: \"+str(KL_vacuous_score))"
   ]
  },
  {
   "cell_type": "code",
   "execution_count": null,
   "metadata": {
    "collapsed": false,
    "pycharm": {
     "name": "#%%\n"
    }
   },
   "outputs": [],
   "source": [
    "\n"
   ]
  }
 ],
 "metadata": {
  "kernelspec": {
   "name": "python3",
   "language": "python",
   "display_name": "Python 3"
  },
  "language_info": {
   "codemirror_mode": {
    "name": "ipython",
    "version": 2
   },
   "file_extension": ".py",
   "mimetype": "text/x-python",
   "name": "python",
   "nbconvert_exporter": "python",
   "pygments_lexer": "ipython2",
   "version": "3.7.5-final"
  }
 },
 "nbformat": 4,
 "nbformat_minor": 0
}
