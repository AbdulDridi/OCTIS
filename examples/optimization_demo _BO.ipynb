{
 "cells": [
  {
   "cell_type": "code",
   "execution_count": 1,
   "metadata": {
    "collapsed": true,
    "pycharm": {
     "is_executing": false
    },
    "tags": [
     "outputPrepend"
    ]
   },
   "outputs": [],
   "source": [
    "import os\n",
    "os.chdir(os.path.pardir)\n",
    "from models.LDA import LDA_Model\n",
    "from dataset.dataset import Dataset\n",
    "from evaluation_metrics.diversity_metrics import Topic_diversity\n",
    "from evaluation_metrics.topic_significance_metrics import KL_uniform\n",
    "from skopt import gp_minimize, forest_minimize, dummy_minimize\n",
    "from optimization.optimizer import Optimizer\n",
    "from skopt.space.space import Real, Integer\n",
    "import multiprocessing as mp\n",
    "from gensim.models import Word2Vec"
   ]
  },
  {
   "cell_type": "code",
   "execution_count": 2,
   "outputs": [
    {
     "output_type": "execute_result",
     "data": {
      "text/plain": "True"
     },
     "metadata": {},
     "execution_count": 2
    }
   ],
   "source": [
    "# Load dataset\n",
    "dataset = Dataset()\n",
    "dataset.load(\"preprocessed_datasets/dblp/dblp_lemmatized_1\")"
   ],
   "metadata": {
    "collapsed": false,
    "pycharm": {
     "name": "#%%\n",
     "is_executing": false
    }
   }
  },
  {
   "cell_type": "code",
   "execution_count": 3,
   "outputs": [],
   "source": [
    "# Load model\n",
    "model = LDA_Model()"
   ],
   "metadata": {
    "collapsed": false,
    "pycharm": {
     "name": "#%%\n",
     "is_executing": false
    }
   }
  },
  {
   "cell_type": "code",
   "execution_count": 4,
   "metadata": {},
   "outputs": [],
   "source": [
    "# Set model hyperparameters\n",
    "model.hyperparameters.update({'num_topics':20})"
   ]
  },
  {
   "cell_type": "code",
   "execution_count": 5,
   "metadata": {},
   "outputs": [],
   "source": [
    "# Topic diversity\n",
    "topic_diversity = Topic_diversity()\n",
    "\n",
    "# KL Uniform\n",
    "kl_uniform = KL_uniform()"
   ]
  },
  {
   "cell_type": "code",
   "execution_count": 6,
   "outputs": [],
   "source": [
    "# Define optimization parameters\n",
    "opt_params = {}\n",
    "opt_params[\"n_calls\"] = 10\n",
    "opt_params[\"minimizer\"] = forest_minimize\n",
    "opt_params[\"different_iteration\"] = 3\n",
    "opt_params[\"n_random_starts\"] = 2\n",
    "opt_params[\"extra_metrics\"] = [kl_uniform] # List of extra metrics\n",
    "opt_params[\"n_jobs\"] = mp.cpu_count() # Enable multiprocessing\n",
    "opt_params[\"verbose\"] = True"
   ],
   "metadata": {
    "collapsed": false,
    "pycharm": {
     "name": "#%%\n",
     "is_executing": false
    }
   }
  },
  {
   "cell_type": "code",
   "execution_count": 7,
   "metadata": {},
   "outputs": [],
   "source": [
    "# Create search space for optimization\n",
    "search_space = {\n",
    "    \"alpha\": Real(low=0.001, high=5.0),\n",
    "    \"eta\": Real(low=0.001, high=5.0)\n",
    "}"
   ]
  },
  {
   "cell_type": "code",
   "execution_count": 8,
   "outputs": [],
   "source": [
    "# Initialize optimizer\n",
    "optimizer = Optimizer(\n",
    "    model,\n",
    "    dataset,\n",
    "    topic_diversity,\n",
    "    search_space,\n",
    "    opt_params)"
   ],
   "metadata": {
    "collapsed": false,
    "pycharm": {
     "name": "#%%\n",
     "is_executing": false
    }
   }
  },
  {
   "cell_type": "code",
   "execution_count": 9,
   "metadata": {},
   "outputs": [],
   "source": [
    "# Disable computing of topic document matrix to optimize performance\n",
    "optimizer.topic_document_matrix = False"
   ]
  },
  {
   "cell_type": "code",
   "execution_count": 10,
   "outputs": [
    {
     "output_type": "stream",
     "name": "stdout",
     "text": "Start Bayesian Optimization\n{'alpha': 0.45465639452257606, 'eta': 0.7759167762213843}\n0.975\nOptimized metric: Topic_diversity\n"
    }
   ],
   "source": [
    "# Optimize\n",
    "res = optimizer.optimize()\n",
    "\n",
    "print(res.hyperparameters) # Best values for the hyperparameters\n",
    "print(res.function_values) # Score of the optimized metric\n",
    "print(\"Optimized metric: \"+res.optimized_metric)"
   ],
   "metadata": {
    "collapsed": false,
    "pycharm": {
     "name": "#%%\n",
     "is_executing": false
    },
    "tags": [
     "outputPrepend",
     "outputPrepend",
     "outputPrepend",
     "outputPrepend"
    ]
   }
  }
 ],
 "metadata": {
  "kernelspec": {
   "display_name": "Python 3.7.5 64-bit",
   "language": "python",
   "name": "python37564bit249cb294c1954e7a89b0e4f753b72267"
  },
  "language_info": {
   "codemirror_mode": {
    "name": "ipython",
    "version": 2
   },
   "file_extension": ".py",
   "mimetype": "text/x-python",
   "name": "python",
   "nbconvert_exporter": "python",
   "pygments_lexer": "ipython2",
   "version": "3.7.5-final"
  },
  "pycharm": {
   "stem_cell": {
    "cell_type": "raw",
    "source": [],
    "metadata": {
     "collapsed": false
    }
   }
  }
 },
 "nbformat": 4,
 "nbformat_minor": 0
}