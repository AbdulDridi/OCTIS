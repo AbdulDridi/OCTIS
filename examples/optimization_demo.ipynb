{
 "cells": [
  {
   "cell_type": "code",
   "execution_count": 1,
   "metadata": {
    "collapsed": true,
    "pycharm": {
     "is_executing": false
    }
   },
   "outputs": [],
   "source": [
    "from models.NMF import NMF_Model\n",
    "from dataset.dataset import Dataset\n",
    "from evaluation_metrics.diversity_metrics import Topic_diversity\n",
    "from optimization.optimizer import Optimizer\n",
    "from skopt.space.space import Real, Integer"
   ]
  },
  {
   "cell_type": "code",
   "execution_count": 2,
   "outputs": [
    {
     "data": {
      "text/plain": "True"
     },
     "metadata": {},
     "output_type": "execute_result",
     "execution_count": 2
    }
   ],
   "source": [
    "# Load dataset\n",
    "dataset = Dataset()\n",
    "dataset.load(\"preprocessed_datasets/newsgroup/newsgroup_lemmatized_10\")"
   ],
   "metadata": {
    "collapsed": false,
    "pycharm": {
     "name": "#%%\n",
     "is_executing": false
    }
   }
  },
  {
   "cell_type": "code",
   "execution_count": 3,
   "outputs": [],
   "source": [
    "# Load model\n",
    "model = NMF_Model(dataset)"
   ],
   "metadata": {
    "collapsed": false,
    "pycharm": {
     "name": "#%%\n",
     "is_executing": false
    }
   }
  },
  {
   "cell_type": "code",
   "execution_count": 7,
   "outputs": [],
   "source": [
    "# Create search space for optimization\n",
    "num_topics = Integer(name='num_topics', low=5, high=30)\n",
    "alpha = Real(name='alpha', low=0.001, high=5.0)\n",
    "eta = Real(name='eta', low=0.001, high=5.0)\n",
    "\n",
    "search_space = {\n",
    "    \"num_topics\": num_topics,\n",
    "    \"alpha\": alpha,\n",
    "    \"eta\": eta\n",
    "}"
   ],
   "metadata": {
    "collapsed": false,
    "pycharm": {
     "name": "#%%\n",
     "is_executing": false
    }
   }
  },
  {
   "cell_type": "code",
   "execution_count": 8,
   "outputs": [],
   "source": [
    "# Initialize optimizer\n",
    "optimizer = Optimizer(model, Topic_diversity, {'topk': 10})\n",
    "\n",
    "# Disable computing of topic document matrix and topic word matrix\n",
    "# To optimize code\n",
    "optimizer.topic_document_matrix = False\n",
    "optimizer.topic_word_matrix = False"
   ],
   "metadata": {
    "collapsed": false,
    "pycharm": {
     "name": "#%%\n",
     "is_executing": false
    }
   }
  },
  {
   "cell_type": "code",
   "execution_count": 9,
   "outputs": [
    {
     "name": "stdout",
     "text": [
      "{'alpha': 3.7719558683269185, 'eta': 0.24968770277662894, 'num_topics': 5}\n",
      "0.92\n"
     ],
     "output_type": "stream"
    }
   ],
   "source": [
    "# Define optimization parameters\n",
    "opt_params = {}\n",
    "opt_params[\"n_calls\"] = 30\n",
    "opt_params[\"n_random_starts\"] = 2\n",
    "\n",
    "# Optimize\n",
    "res = optimizer = optimizer.optimize(search_space, opt_params)\n",
    "\n",
    "print(res[0]) # Best values for the hyperparameters\n",
    "print(res[1].fun) # Score of the metric with the best hyperparameters\n"
   ],
   "metadata": {
    "collapsed": false,
    "pycharm": {
     "name": "#%%\n",
     "is_executing": false
    }
   }
  },
  {
   "cell_type": "code",
   "execution_count": null,
   "outputs": [],
   "source": [
    "\n"
   ],
   "metadata": {
    "collapsed": false,
    "pycharm": {
     "name": "#%%\n"
    }
   }
  }
 ],
 "metadata": {
  "kernelspec": {
   "display_name": "Python 3",
   "language": "python",
   "name": "python3"
  },
  "language_info": {
   "codemirror_mode": {
    "name": "ipython",
    "version": 2
   },
   "file_extension": ".py",
   "mimetype": "text/x-python",
   "name": "python",
   "nbconvert_exporter": "python",
   "pygments_lexer": "ipython2",
   "version": "2.7.6"
  },
  "pycharm": {
   "stem_cell": {
    "cell_type": "raw",
    "source": [],
    "metadata": {
     "collapsed": false
    }
   }
  }
 },
 "nbformat": 4,
 "nbformat_minor": 0
}