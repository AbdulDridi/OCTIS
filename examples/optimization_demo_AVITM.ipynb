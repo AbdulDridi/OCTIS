{
 "cells": [
  {
   "cell_type": "code",
   "execution_count": 1,
   "metadata": {
    "pycharm": {
     "name": "#%%\n"
    }
   },
   "outputs": [],
   "source": [
    "import os\n",
    "os.chdir(os.path.pardir)\n",
    "from dataset.dataset import Dataset\n",
    "from evaluation_metrics.diversity_metrics import Topic_diversity\n",
    "from evaluation_metrics.topic_significance_metrics import KL_uniform\n",
    "from skopt import gp_minimize, forest_minimize, dummy_minimize\n",
    "from optimization.optimizer import Optimizer\n",
    "from skopt.space.space import Real, Integer\n",
    "import multiprocessing as mp\n",
    "from models.TorchAvitm import TorchAvitm\n",
    "from gensim.models import Word2Vec"
   ]
  },
  {
   "cell_type": "code",
   "execution_count": 2,
   "metadata": {},
   "outputs": [
    {
     "data": {
      "text/plain": [
       "True"
      ]
     },
     "execution_count": 2,
     "metadata": {},
     "output_type": "execute_result"
    }
   ],
   "source": [
    "# Load dataset\n",
    "dataset = Dataset()\n",
    "dataset.load(\"preprocessed_datasets/newsgroup/newsgroup_lemmatized_10\")"
   ]
  },
  {
   "cell_type": "code",
   "execution_count": 3,
   "metadata": {},
   "outputs": [],
   "source": [
    "# Load model\n",
    "model = TorchAvitm()"
   ]
  },
  {
   "cell_type": "code",
   "execution_count": 4,
   "metadata": {},
   "outputs": [],
   "source": [
    "\n",
    "# Set model hyperparameters\n",
    "model.hyperparameters['prior_variance'] = 0.2\n",
    "model.hyperparameters['n_components'] = 5\n",
    "model.hyperparameters['num_epochs'] = 1"
   ]
  },
  {
   "cell_type": "code",
   "execution_count": 5,
   "metadata": {
    "pycharm": {
     "name": "#%%\n"
    }
   },
   "outputs": [
    {
     "data": {
      "text/plain": [
       "{'prior_variance': 0.2, 'n_components': 5, 'num_epochs': 1}"
      ]
     },
     "execution_count": 5,
     "metadata": {},
     "output_type": "execute_result"
    }
   ],
   "source": [
    "model.hyperparameters"
   ]
  },
  {
   "cell_type": "code",
   "execution_count": 6,
   "metadata": {},
   "outputs": [],
   "source": [
    "model.partitioning(True)"
   ]
  },
  {
   "cell_type": "code",
   "execution_count": 7,
   "metadata": {},
   "outputs": [
    {
     "name": "stdout",
     "output_type": "stream",
     "text": [
      "Settings: \n",
      "               N Components: 5\n",
      "               Topic Prior Mean: 0.0\n",
      "               Topic Prior Variance: 0.2\n",
      "               Model Type: prodLDA\n",
      "               Hidden Sizes: (100, 100)\n",
      "               Activation: softplus\n",
      "               Dropout: 0.2\n",
      "               Learn Priors: True\n",
      "               Learning Rate: 0.002\n",
      "               Momentum: 0.99\n",
      "               Reduce On Plateau: False\n",
      "               Save Dir: None\n",
      "Epoch: [1/1]\tSamples: [10758/10758]\tTrain Loss: 572.320676237306\tTime: 0:00:03.378516\n"
     ]
    },
    {
     "data": {
      "text/plain": [
       "{'topics': [['dangerous',\n",
       "   'alternative',\n",
       "   'describe',\n",
       "   'economic',\n",
       "   'recommend',\n",
       "   'burn',\n",
       "   'son',\n",
       "   'soldier',\n",
       "   'course',\n",
       "   'jump'],\n",
       "  ['anywhere',\n",
       "   'fault',\n",
       "   'secret',\n",
       "   'originally',\n",
       "   'tie',\n",
       "   'topic',\n",
       "   'shift',\n",
       "   'element',\n",
       "   'completely',\n",
       "   'operate'],\n",
       "  ['try',\n",
       "   'way',\n",
       "   'know',\n",
       "   'think',\n",
       "   'thing',\n",
       "   'still',\n",
       "   'be',\n",
       "   'get',\n",
       "   'also',\n",
       "   'well'],\n",
       "  ['thing',\n",
       "   'mean',\n",
       "   'day',\n",
       "   'would',\n",
       "   'way',\n",
       "   'right',\n",
       "   'much',\n",
       "   'issue',\n",
       "   'time',\n",
       "   'even'],\n",
       "  ['originator',\n",
       "   'unable',\n",
       "   'setup',\n",
       "   'direction',\n",
       "   'solid',\n",
       "   'component',\n",
       "   'mountain',\n",
       "   'huge',\n",
       "   'defend',\n",
       "   'bottom']],\n",
       " 'topic-word-matrix': array([[-0.14488226, -0.14759812,  0.02190099, ...,  0.01369622,\n",
       "          0.02865248,  0.00538214],\n",
       "        [ 0.04971226, -0.01680202, -0.060491  , ..., -0.06207202,\n",
       "         -0.1380107 ,  0.04873045],\n",
       "        [-0.04562013, -0.01280217, -0.02776971, ..., -0.05532337,\n",
       "         -0.01347484, -0.00765304],\n",
       "        [-0.0362308 , -0.00836717, -0.03018881, ..., -0.03332112,\n",
       "         -0.00688826, -0.02463916],\n",
       "        [ 0.1254812 ,  0.05198458,  0.13511197, ...,  0.14150704,\n",
       "          0.10859463, -0.09977455]], dtype=float32),\n",
       " 'topic-document-matrix': array([[0.3558354 , 0.06839377, 0.25170755, 0.3204477 , 0.00361555],\n",
       "        [0.16686636, 0.13994873, 0.3856829 , 0.02977586, 0.2777262 ],\n",
       "        [0.1466218 , 0.01117247, 0.07056178, 0.35037485, 0.42126906],\n",
       "        ...,\n",
       "        [0.0266254 , 0.16427112, 0.09829197, 0.4786744 , 0.2321371 ],\n",
       "        [0.192002  , 0.5490417 , 0.01842487, 0.1298218 , 0.1107097 ],\n",
       "        [0.0280611 , 0.12072369, 0.5318881 , 0.23119901, 0.08812805]],\n",
       "       dtype=float32),\n",
       " 'test-topic-document-matrix': array([[0.23868151, 0.17814127, 0.40742505, 0.13517673, 0.04057548],\n",
       "        [0.0525089 , 0.31441802, 0.43391374, 0.1545567 , 0.04460261],\n",
       "        [0.02819603, 0.04877323, 0.06261573, 0.84386986, 0.01654521],\n",
       "        ...,\n",
       "        [0.03349525, 0.45167935, 0.07750121, 0.06171115, 0.375613  ],\n",
       "        [0.01571091, 0.02011367, 0.19475071, 0.71779895, 0.05162575],\n",
       "        [0.0073305 , 0.0548369 , 0.01627917, 0.09287187, 0.8286815 ]],\n",
       "       dtype=float32)}"
      ]
     },
     "execution_count": 7,
     "metadata": {},
     "output_type": "execute_result"
    }
   ],
   "source": [
    "model.train_model(dataset, model.hyperparameters)"
   ]
  },
  {
   "cell_type": "code",
   "execution_count": 6,
   "metadata": {
    "pycharm": {
     "name": "#%%\n"
    }
   },
   "outputs": [],
   "source": [
    "# Topic diversity\n",
    "topic_diversity = Topic_diversity()\n",
    "\n",
    "# KL_Uniform\n",
    "#kl_uniform = KL_uniform()"
   ]
  },
  {
   "cell_type": "code",
   "execution_count": 7,
   "metadata": {},
   "outputs": [],
   "source": [
    "# Define optimization parameters\n",
    "opt_params = {}\n",
    "opt_params[\"n_calls\"] = 30\n",
    "opt_params[\"minimizer\"] = forest_minimize\n",
    "opt_params[\"different_iteration\"] = 3\n",
    "opt_params[\"n_random_starts\"] = 5\n",
    "#opt_params[\"extra_metrics\"] = [kl_uniform] # List of extra metrics\n",
    "opt_params[\"n_jobs\"] = mp.cpu_count() -1 # Enable multiprocessing\n",
    "opt_params[\"verbose\"] = True\n",
    "opt_params[\"save_path\"] = \"results\" #create folder if it doesn't exist "
   ]
  },
  {
   "cell_type": "code",
   "execution_count": 8,
   "metadata": {},
   "outputs": [],
   "source": [
    "# Create search space for optimization\n",
    "search_space = {\n",
    "    \"num_epochs\": Integer(low=1, high=50),\n",
    "    #\"eta\": Real(low=0.01, high=5.0)\n",
    "}"
   ]
  },
  {
   "cell_type": "code",
   "execution_count": 9,
   "metadata": {},
   "outputs": [],
   "source": [
    "# Initialize optimizer\n",
    "optimizer = Optimizer(\n",
    "    model,\n",
    "    dataset,\n",
    "    topic_diversity,\n",
    "    search_space,\n",
    "    opt_params)"
   ]
  },
  {
   "cell_type": "code",
   "execution_count": null,
   "metadata": {},
   "outputs": [],
   "source": [
    "# Disable computing of topic document matrix to optimize performance\n",
    "optimizer.topic_document_matrix = False\n",
    "optimizer.topic_word_matrix = False"
   ]
  },
  {
   "cell_type": "code",
   "execution_count": null,
   "metadata": {},
   "outputs": [],
   "source": [
    "# Optimize\n",
    "res = optimizer.optimize()\n",
    "\n",
    "print(res.hyperparameters) # Best values for the hyperparameters\n",
    "print(res.function_values) # Score of the optimized metric\n",
    "print(\"Optimized metric: \"+res.optimized_metric)"
   ]
  },
  {
   "cell_type": "code",
   "execution_count": null,
   "metadata": {},
   "outputs": [],
   "source": []
  },
  {
   "cell_type": "code",
   "execution_count": null,
   "metadata": {
    "pycharm": {
     "name": "#%%\n"
    }
   },
   "outputs": [],
   "source": [
    "\n"
   ]
  }
 ],
 "metadata": {
  "kernelspec": {
   "display_name": "Python 3",
   "language": "python",
   "name": "python3"
  },
  "language_info": {
   "codemirror_mode": {
    "name": "ipython",
    "version": 3
   },
   "file_extension": ".py",
   "mimetype": "text/x-python",
   "name": "python",
   "nbconvert_exporter": "python",
   "pygments_lexer": "ipython3",
   "version": "3.7.3"
  }
 },
 "nbformat": 4,
 "nbformat_minor": 4
}
