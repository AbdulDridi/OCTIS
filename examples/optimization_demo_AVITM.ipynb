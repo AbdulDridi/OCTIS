{
 "cells": [
  {
   "cell_type": "code",
   "execution_count": 1,
   "metadata": {
    "pycharm": {
     "name": "#%%\n"
    }
   },
   "outputs": [],
   "source": [
    "import os\n",
    "os.chdir(os.path.pardir)\n",
    "from dataset.dataset import Dataset\n",
    "from evaluation_metrics.diversity_metrics import Topic_diversity\n",
    "from evaluation_metrics.topic_significance_metrics import KL_uniform\n",
    "from skopt import gp_minimize, forest_minimize, dummy_minimize\n",
    "from optimization.optimizer import Optimizer\n",
    "from skopt.space.space import Real, Integer\n",
    "import multiprocessing as mp\n",
    "from models.TorchAvitm import TorchAvitm\n",
    "from gensim.models import Word2Vec"
   ]
  },
  {
   "cell_type": "code",
   "execution_count": 2,
   "metadata": {},
   "outputs": [
    {
     "data": {
      "text/plain": "True"
     },
     "execution_count": 2,
     "metadata": {},
     "output_type": "execute_result"
    }
   ],
   "source": [
    "# Load dataset\n",
    "dataset = Dataset()\n",
    "dataset.load(\"preprocessed_datasets/newsgroup/newsgroup_lemmatized_10\")"
   ]
  },
  {
   "cell_type": "code",
   "execution_count": 3,
   "metadata": {},
   "outputs": [],
   "source": [
    "# Load model\n",
    "model = TorchAvitm()"
   ]
  },
  {
   "cell_type": "code",
   "execution_count": 8,
   "metadata": {},
   "outputs": [],
   "source": [
    "\n",
    "# Set model hyperparameters\n",
    "model.hyperparameters['prior_variance'] = 0.2\n",
    "model.hyperparameters['num_topics'] = 10\n",
    "model.hyperparameters['num_epochs'] = 1"
   ]
  },
  {
   "cell_type": "code",
   "execution_count": 9,
   "metadata": {
    "pycharm": {
     "name": "#%%\n"
    }
   },
   "outputs": [
    {
     "data": {
      "text/plain": "{'prior_variance': 0.2,\n 'num_topics': 10,\n 'num_epochs': 1,\n 'model_type': 'prodLDA',\n 'activation': 'softplus',\n 'dropout': 0.2,\n 'learn_priors': True,\n 'batch_size': 64,\n 'lr': 0.002,\n 'momentum': 0.99,\n 'solver': 'adam',\n 'reduce_on_plateau': False,\n 'prior_mean': 0.0,\n 'hidden_sizes': (100, 100)}"
     },
     "execution_count": 9,
     "metadata": {},
     "output_type": "execute_result"
    }
   ],
   "source": [
    "model.hyperparameters"
   ]
  },
  {
   "cell_type": "code",
   "execution_count": 10,
   "metadata": {},
   "outputs": [],
   "source": [
    "model.partitioning(True)"
   ]
  },
  {
   "cell_type": "code",
   "execution_count": 11,
   "metadata": {},
   "outputs": [
    {
     "name": "stdout",
     "output_type": "stream",
     "text": [
      "Settings: \n",
      "               N Components: 10\n",
      "               Topic Prior Mean: 0.0\n",
      "               Topic Prior Variance: 0.2\n",
      "               Model Type: prodLDA\n",
      "               Hidden Sizes: (100, 100)\n",
      "               Activation: softplus\n",
      "               Dropout: 0.2\n",
      "               Learn Priors: True\n",
      "               Learning Rate: 0.002\n",
      "               Momentum: 0.99\n",
      "               Reduce On Plateau: False\n",
      "               Save Dir: None\n",
      "Epoch: [1/1]\tSamples: [10758/10758]\tTrain Loss: 587.91229380806\tTime: 0:00:01.492657\n"
     ]
    },
    {
     "data": {
      "text/plain": "{'topics': [['baby',\n   'decent',\n   'prepare',\n   'cop',\n   'plug',\n   'detect',\n   'bar',\n   'spread',\n   'debate',\n   'generation'],\n  ['manner',\n   'solve',\n   'direct',\n   'touch',\n   'button',\n   'join',\n   'engineering',\n   'refuse',\n   'deserve',\n   'twice'],\n  ['back',\n   'different',\n   'file',\n   'already',\n   'maybe',\n   'thing',\n   'application',\n   'go',\n   'example',\n   'set'],\n  ['engineering',\n   'anywhere',\n   'baby',\n   'prior',\n   'join',\n   'fair',\n   'cop',\n   'baseball',\n   'class',\n   'rich'],\n  ['seek',\n   'generation',\n   'manner',\n   'basically',\n   'prior',\n   'originator',\n   'judge',\n   'animal',\n   'capability',\n   'ahead'],\n  ['call',\n   'give',\n   'people',\n   'use',\n   'make',\n   'number',\n   'good',\n   'life',\n   'say',\n   'way'],\n  ['good',\n   'also',\n   'people',\n   'time',\n   'give',\n   'first',\n   'article',\n   'find',\n   'different',\n   'well'],\n  ['crime',\n   'right',\n   'hope',\n   'little',\n   'weapon',\n   'vote',\n   'gun',\n   'power',\n   'least',\n   'give'],\n  ['prior',\n   'class',\n   'observation',\n   'anywhere',\n   'tie',\n   'half',\n   'specific',\n   'past',\n   'odd',\n   'status'],\n  ['take',\n   'believe',\n   'second',\n   'example',\n   'different',\n   'period',\n   'need',\n   'thing',\n   'go',\n   'must']],\n 'test-topic-document-matrix': array([[0.18864812, 0.03658238, 0.02783506, ..., 0.22083157, 0.04174026,\n         0.18839876],\n        [0.0374448 , 0.04390787, 0.09764513, ..., 0.02762164, 0.11988005,\n         0.0188937 ],\n        [0.00702214, 0.03243452, 0.35480294, ..., 0.08053906, 0.01629636,\n         0.08557442],\n        ...,\n        [0.23402724, 0.12638937, 0.24439155, ..., 0.0628239 , 0.00677729,\n         0.04344726],\n        [0.05716389, 0.17680003, 0.0509949 , ..., 0.11059192, 0.11702703,\n         0.0432971 ],\n        [0.55768627, 0.18728767, 0.00542501, ..., 0.00117379, 0.10613632,\n         0.00368688]], dtype=float32)}"
     },
     "execution_count": 11,
     "metadata": {},
     "output_type": "execute_result"
    }
   ],
   "source": [
    "model.train_model(dataset, model.hyperparameters, topic_word_matrix=False,\n",
    "                    topic_document_matrix=False)"
   ]
  },
  {
   "cell_type": "code",
   "execution_count": 6,
   "metadata": {
    "pycharm": {
     "name": "#%%\n"
    }
   },
   "outputs": [],
   "source": [
    "# Topic diversity\n",
    "topic_diversity = Topic_diversity()\n",
    "\n",
    "# KL_Uniform\n",
    "#kl_uniform = KL_uniform()"
   ]
  },
  {
   "cell_type": "code",
   "execution_count": 7,
   "metadata": {},
   "outputs": [],
   "source": [
    "# Define optimization parameters\n",
    "opt_params = {}\n",
    "opt_params[\"n_calls\"] = 30\n",
    "opt_params[\"minimizer\"] = forest_minimize\n",
    "opt_params[\"different_iteration\"] = 3\n",
    "opt_params[\"n_random_starts\"] = 5\n",
    "#opt_params[\"extra_metrics\"] = [kl_uniform] # List of extra metrics\n",
    "opt_params[\"n_jobs\"] = mp.cpu_count() -1 # Enable multiprocessing\n",
    "opt_params[\"verbose\"] = True\n",
    "opt_params[\"save_path\"] = \"results\" #create folder if it doesn't exist "
   ]
  },
  {
   "cell_type": "code",
   "execution_count": 8,
   "metadata": {},
   "outputs": [],
   "source": [
    "# Create search space for optimization\n",
    "search_space = {\n",
    "    \"num_epochs\": Integer(low=1, high=50),\n",
    "    #\"eta\": Real(low=0.01, high=5.0)\n",
    "}"
   ]
  },
  {
   "cell_type": "code",
   "execution_count": 9,
   "metadata": {},
   "outputs": [],
   "source": [
    "# Initialize optimizer\n",
    "optimizer = Optimizer(\n",
    "    model,\n",
    "    dataset,\n",
    "    topic_diversity,\n",
    "    search_space,\n",
    "    opt_params)"
   ]
  },
  {
   "cell_type": "code",
   "execution_count": null,
   "metadata": {},
   "outputs": [],
   "source": [
    "# Disable computing of topic document matrix to optimize performance\n",
    "optimizer.topic_document_matrix = False\n",
    "optimizer.topic_word_matrix = False"
   ]
  },
  {
   "cell_type": "code",
   "execution_count": null,
   "metadata": {},
   "outputs": [],
   "source": [
    "# Optimize\n",
    "res = optimizer.optimize()\n",
    "\n",
    "print(res.hyperparameters) # Best values for the hyperparameters\n",
    "print(res.function_values) # Score of the optimized metric\n",
    "print(\"Optimized metric: \"+res.optimized_metric)"
   ]
  },
  {
   "cell_type": "code",
   "execution_count": null,
   "metadata": {},
   "outputs": [],
   "source": []
  },
  {
   "cell_type": "code",
   "execution_count": null,
   "metadata": {
    "pycharm": {
     "name": "#%%\n"
    }
   },
   "outputs": [],
   "source": [
    "\n"
   ]
  }
 ],
 "metadata": {
  "kernelspec": {
   "name": "python3",
   "language": "python",
   "display_name": "Python 3"
  },
  "language_info": {
   "codemirror_mode": {
    "name": "ipython",
    "version": 3
   },
   "file_extension": ".py",
   "mimetype": "text/x-python",
   "name": "python",
   "nbconvert_exporter": "python",
   "pygments_lexer": "ipython3",
   "version": "3.7.3"
  }
 },
 "nbformat": 4,
 "nbformat_minor": 4
}