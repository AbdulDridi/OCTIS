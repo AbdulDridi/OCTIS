{
 "cells": [
  {
   "cell_type": "code",
   "execution_count": 1,
   "metadata": {
    "collapsed": true,
    "pycharm": {
     "is_executing": false
    }
   },
   "outputs": [],
   "source": [
    "from models.LSI import LSI_Model\n",
    "from dataset.dataset import Dataset\n",
    "import json"
   ]
  },
  {
   "cell_type": "code",
   "execution_count": 2,
   "outputs": [
    {
     "data": {
      "text/plain": "True"
     },
     "metadata": {},
     "output_type": "execute_result",
     "execution_count": 2
    }
   ],
   "source": [
    "#define dataset\n",
    "dataset = Dataset()\n",
    "dataset.load(\"preprocessed_datasets/newsgroup/newsgroup_lemmatized_5\")"
   ],
   "metadata": {
    "collapsed": false,
    "pycharm": {
     "name": "#%%\n",
     "is_executing": false
    }
   }
  },
  {
   "cell_type": "code",
   "execution_count": 3,
   "outputs": [],
   "source": [
    "#set hyperparameters \n",
    "hyperparameters = {}\n",
    "hyperparameters[\"num_topics\"] = 10"
   ],
   "metadata": {
    "collapsed": false,
    "pycharm": {
     "name": "#%%\n",
     "is_executing": false
    }
   }
  },
  {
   "cell_type": "code",
   "execution_count": 4,
   "outputs": [
    {
     "data": {
      "text/plain": "True"
     },
     "metadata": {},
     "output_type": "execute_result",
     "execution_count": 4
    }
   ],
   "source": [
    "#train model\n",
    "model = LSI_Model(dataset, hyperparameters)  # Create model\n",
    "model.train_model()  # Train the model"
   ],
   "metadata": {
    "collapsed": false,
    "pycharm": {
     "name": "#%%\n",
     "is_executing": false
    }
   }
  },
  {
   "cell_type": "code",
   "execution_count": 7,
   "outputs": [
    {
     "name": "stdout",
     "text": [
      "[[ 1.51933350e-02  1.92894716e-02  4.41236965e-03 ...  6.67842534e-03\n",
      "   6.69625296e-03  7.86085496e-04]\n",
      " [-7.69591256e-03 -1.38245285e-02 -1.68585798e-04 ...  3.73731146e-04\n",
      "   1.95477041e-04 -9.72404201e-04]\n",
      " [-3.92285908e-03 -1.17177895e-02 -3.60617290e-03 ... -2.24638514e-03\n",
      "  -2.00643728e-03 -2.34712931e-04]\n",
      " ...\n",
      " [-1.24645255e-02 -1.66587009e-02 -7.44227949e-03 ...  9.24270524e-02\n",
      "   6.83140717e-02  7.67039387e-05]\n",
      " [-2.66113855e-02 -2.38087049e-02 -7.29152512e-03 ...  7.41768901e-02\n",
      "   5.03006616e-02  3.76102042e-04]\n",
      " [ 2.14331637e-02 -1.71941292e-03  6.39800451e-03 ... -7.50143243e-02\n",
      "  -6.09933677e-02 -7.88722959e-03]]\n",
      "(10, 2152)\n"
     ],
     "output_type": "stream"
    }
   ],
   "source": [
    "topic_word_matrix = model.get_word_topic_weights()  # compute topic word matrix\n",
    "\n",
    "print(topic_word_matrix)\n",
    "print(topic_word_matrix.shape)"
   ],
   "metadata": {
    "collapsed": false,
    "pycharm": {
     "name": "#%%\n",
     "is_executing": false
    }
   }
  },
  {
   "cell_type": "code",
   "execution_count": null,
   "outputs": [],
   "source": [
    "\n"
   ],
   "metadata": {
    "collapsed": false,
    "pycharm": {
     "name": "#%%\n"
    }
   }
  }
 ],
 "metadata": {
  "kernelspec": {
   "display_name": "Python 3",
   "language": "python",
   "name": "python3"
  },
  "language_info": {
   "codemirror_mode": {
    "name": "ipython",
    "version": 2
   },
   "file_extension": ".py",
   "mimetype": "text/x-python",
   "name": "python",
   "nbconvert_exporter": "python",
   "pygments_lexer": "ipython2",
   "version": "2.7.6"
  },
  "pycharm": {
   "stem_cell": {
    "cell_type": "raw",
    "source": [],
    "metadata": {
     "collapsed": false
    }
   }
  }
 },
 "nbformat": 4,
 "nbformat_minor": 0
}