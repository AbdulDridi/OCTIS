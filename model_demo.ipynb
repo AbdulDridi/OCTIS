{
 "cells": [
  {
   "cell_type": "code",
   "execution_count": 8,
   "metadata": {
    "collapsed": true,
    "pycharm": {
     "is_executing": false
    }
   },
   "outputs": [],
   "source": [
    "from models.NMF import NMF_Model\n",
    "from dataset.dataset import Dataset\n",
    "from evaluation_metrics.diversity_metrics import Topic_diversity\n",
    "from evaluation_metrics.topic_significance_metrics import KL_vacuous\n",
    "import json"
   ]
  },
  {
   "cell_type": "code",
   "execution_count": 9,
   "outputs": [
    {
     "output_type": "execute_result",
     "data": {
      "text/plain": "True"
     },
     "metadata": {},
     "execution_count": 9
    }
   ],
   "source": [
    "# Define dataset\n",
    "dataset = Dataset()\n",
    "dataset.load(\"preprocessed_datasets/newsgroup/newsgroup_lemmatized_10\")"
   ],
   "metadata": {
    "collapsed": false,
    "pycharm": {
     "name": "#%%\n",
     "is_executing": false
    }
   }
  },
  {
   "cell_type": "code",
   "execution_count": 10,
   "outputs": [],
   "source": [
    "# Set hyperparameters \n",
    "hyperparameters = {}\n",
    "hyperparameters[\"num_topics\"] = 20"
   ],
   "metadata": {
    "collapsed": false,
    "pycharm": {
     "name": "#%%\n",
     "is_executing": false
    }
   }
  },
  {
   "cell_type": "code",
   "execution_count": 11,
   "outputs": [
    {
     "output_type": "execute_result",
     "data": {
      "text/plain": "True"
     },
     "metadata": {},
     "execution_count": 11
    }
   ],
   "source": [
    "# Train model\n",
    "model = NMF_Model(dataset, hyperparameters)  # Create model\n",
    "model.train_model()  # Train the model"
   ],
   "metadata": {
    "collapsed": false,
    "pycharm": {
     "name": "#%%\n",
     "is_executing": false
    }
   }
  },
  {
   "cell_type": "code",
   "execution_count": 12,
   "outputs": [
    {
     "output_type": "stream",
     "name": "stdout",
     "text": "[[0.00000000e+00 0.00000000e+00 2.63619749e-04 ... 0.00000000e+00\n  0.00000000e+00 0.00000000e+00]\n [2.30285780e-03 3.42654410e-03 0.00000000e+00 ... 0.00000000e+00\n  2.40904581e-03 0.00000000e+00]\n [5.84772837e-04 1.60065823e-03 0.00000000e+00 ... 0.00000000e+00\n  1.12487370e-03 1.99781288e-03]\n ...\n [4.29742795e-04 0.00000000e+00 3.92114042e-04 ... 0.00000000e+00\n  0.00000000e+00 0.00000000e+00]\n [0.00000000e+00 0.00000000e+00 2.58956061e-04 ... 0.00000000e+00\n  0.00000000e+00 0.00000000e+00]\n [0.00000000e+00 2.31468809e-04 2.98113622e-05 ... 0.00000000e+00\n  0.00000000e+00 2.51232473e-03]]\n(20, 1267)\n"
    }
   ],
   "source": [
    "topic_word_matrix = model.get_word_topic_weights()  # Compute topic word matrix\n",
    "\n",
    "print(topic_word_matrix)\n",
    "print(topic_word_matrix.shape)"
   ],
   "metadata": {
    "collapsed": false,
    "pycharm": {
     "name": "#%%\n",
     "is_executing": false
    }
   }
  },
  {
   "cell_type": "code",
   "execution_count": 13,
   "outputs": [],
   "source": [
    "# Set parameters to retrieve metrics score\n",
    "topk = 10\n",
    "model_output = model.get_output(topk)"
   ],
   "metadata": {
    "collapsed": false,
    "pycharm": {
     "name": "#%%\n"
    }
   }
  },
  {
   "cell_type": "code",
   "execution_count": 14,
   "metadata": {},
   "outputs": [
    {
     "output_type": "stream",
     "name": "stdout",
     "text": "Topic diversity: 0.59\nKL Vacuous: 1.281566489970095\n"
    }
   ],
   "source": [
    "# Retrieve metrics score\n",
    "topic_diversity = Topic_diversity(model_output, topk)\n",
    "topic_diversity_score = topic_diversity.score()\n",
    "print(\"Topic diversity: \"+str(topic_diversity_score))\n",
    "\n",
    "KL_vacuous = KL_vacuous(model_output)\n",
    "KL_vacuous_score = KL_vacuous.score()\n",
    "print(\"KL Vacuous: \"+str(KL_vacuous_score))"
   ]
  }
 ],
 "metadata": {
  "kernelspec": {
   "display_name": "Python 3.7.5 64-bit",
   "language": "python",
   "name": "python37564bit9170f91cad174477b32d1c793686de17"
  },
  "language_info": {
   "codemirror_mode": {
    "name": "ipython",
    "version": 2
   },
   "file_extension": ".py",
   "mimetype": "text/x-python",
   "name": "python",
   "nbconvert_exporter": "python",
   "pygments_lexer": "ipython2",
   "version": "3.7.5-final"
  },
  "pycharm": {
   "stem_cell": {
    "cell_type": "raw",
    "source": [],
    "metadata": {
     "collapsed": false
    }
   }
  }
 },
 "nbformat": 4,
 "nbformat_minor": 0
}