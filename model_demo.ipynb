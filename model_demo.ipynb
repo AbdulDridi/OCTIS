{
 "cells": [
  {
   "cell_type": "code",
   "execution_count": 36,
   "metadata": {
    "collapsed": true,
    "pycharm": {
     "is_executing": false
    }
   },
   "outputs": [],
   "source": [
    "from models.NMF import NMF_Model\n",
    "from dataset.dataset import Dataset\n",
    "import models.metrics as metrics\n",
    "import json"
   ]
  },
  {
   "cell_type": "code",
   "execution_count": 38,
   "outputs": [
    {
     "output_type": "execute_result",
     "data": {
      "text/plain": "True"
     },
     "metadata": {},
     "execution_count": 38
    }
   ],
   "source": [
    "# Define dataset\n",
    "dataset = Dataset()\n",
    "dataset.load(\"preprocessed_datasets/newsgroup/newsgroup_lemmatized_10\")"
   ],
   "metadata": {
    "collapsed": false,
    "pycharm": {
     "name": "#%%\n",
     "is_executing": false
    }
   }
  },
  {
   "cell_type": "code",
   "execution_count": 39,
   "outputs": [],
   "source": [
    "# Set hyperparameters \n",
    "hyperparameters = {}\n",
    "hyperparameters[\"num_topics\"] = 20"
   ],
   "metadata": {
    "collapsed": false,
    "pycharm": {
     "name": "#%%\n",
     "is_executing": false
    }
   }
  },
  {
   "cell_type": "code",
   "execution_count": 40,
   "outputs": [
    {
     "output_type": "execute_result",
     "data": {
      "text/plain": "True"
     },
     "metadata": {},
     "execution_count": 40
    }
   ],
   "source": [
    "# Train model\n",
    "model = NMF_Model(dataset, hyperparameters)  # Create model\n",
    "model.train_model()  # Train the model"
   ],
   "metadata": {
    "collapsed": false,
    "pycharm": {
     "name": "#%%\n",
     "is_executing": false
    }
   }
  },
  {
   "cell_type": "code",
   "execution_count": 41,
   "outputs": [
    {
     "output_type": "stream",
     "name": "stdout",
     "text": "[[8.33952711e-05 0.00000000e+00 0.00000000e+00 ... 4.57486245e-03\n  0.00000000e+00 0.00000000e+00]\n [0.00000000e+00 1.40379576e-05 0.00000000e+00 ... 0.00000000e+00\n  0.00000000e+00 1.01547655e-03]\n [3.35583824e-05 7.31250203e-04 0.00000000e+00 ... 0.00000000e+00\n  0.00000000e+00 0.00000000e+00]\n ...\n [0.00000000e+00 2.77501655e-05 3.59885970e-04 ... 0.00000000e+00\n  0.00000000e+00 5.33189022e-05]\n [0.00000000e+00 0.00000000e+00 0.00000000e+00 ... 0.00000000e+00\n  0.00000000e+00 0.00000000e+00]\n [2.23537196e-04 0.00000000e+00 0.00000000e+00 ... 0.00000000e+00\n  0.00000000e+00 4.25167675e-03]]\n(20, 1267)\n"
    }
   ],
   "source": [
    "topic_word_matrix = model.get_word_topic_weights()  # Compute topic word matrix\n",
    "\n",
    "print(topic_word_matrix)\n",
    "print(topic_word_matrix.shape)"
   ],
   "metadata": {
    "collapsed": false,
    "pycharm": {
     "name": "#%%\n",
     "is_executing": false
    }
   }
  },
  {
   "cell_type": "code",
   "execution_count": 42,
   "outputs": [],
   "source": [
    "# Set parameters to retrieve metrics score\n",
    "topk = 10\n",
    "topics = model.get_topics_terms(topk)\n",
    "texts = model.dataset.get_corpus()\n",
    "\n",
    "phi = model.get_word_topic_weights()\n",
    "theta = model.get_doc_topic_representation(model.dataset.get_corpus())\n",
    ""
   ],
   "metadata": {
    "collapsed": false,
    "pycharm": {
     "name": "#%%\n"
    }
   }
  },
  {
   "cell_type": "code",
   "execution_count": 43,
   "metadata": {},
   "outputs": [
    {
     "output_type": "stream",
     "name": "stdout",
     "text": "Topic diversity: 0.605\nKL Vacuous: 1.2954151726859648\n"
    }
   ],
   "source": [
    "# Retrieve metrics score\n",
    "topic_diversity = metrics.Topic_diversity(topics)\n",
    "topic_diversity_score = topic_diversity.score(topk)\n",
    "print(\"Topic diversity: \"+str(topic_diversity_score))\n",
    "\n",
    "KL_vacuous = metrics.KL_vacuous(phi, theta)\n",
    "KL_vacuous_score = KL_vacuous.score()\n",
    "print(\"KL Vacuous: \"+str(KL_vacuous_score))"
   ]
  }
 ],
 "metadata": {
  "kernelspec": {
   "display_name": "Python 3.7.5 64-bit",
   "language": "python",
   "name": "python37564bit9170f91cad174477b32d1c793686de17"
  },
  "language_info": {
   "codemirror_mode": {
    "name": "ipython",
    "version": 2
   },
   "file_extension": ".py",
   "mimetype": "text/x-python",
   "name": "python",
   "nbconvert_exporter": "python",
   "pygments_lexer": "ipython2",
   "version": "3.7.5-final"
  },
  "pycharm": {
   "stem_cell": {
    "cell_type": "raw",
    "source": [],
    "metadata": {
     "collapsed": false
    }
   }
  }
 },
 "nbformat": 4,
 "nbformat_minor": 0
}