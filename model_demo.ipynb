{
 "cells": [
  {
   "cell_type": "code",
   "execution_count": 1,
   "metadata": {
    "collapsed": true,
    "pycharm": {
     "is_executing": false
    }
   },
   "outputs": [],
   "source": [
    "from models.LSI import LSI_Model\n",
    "from dataset.dataset import Dataset\n",
    "import json"
   ]
  },
  {
   "cell_type": "code",
   "execution_count": 2,
   "outputs": [
    {
     "output_type": "execute_result",
     "data": {
      "text/plain": "True"
     },
     "metadata": {},
     "execution_count": 2
    }
   ],
   "source": [
    "# Define dataset\n",
    "dataset = Dataset()\n",
    "dataset.load(\"preprocessed_datasets/newsgroup/newsgroup_lemmatized_5\")"
   ],
   "metadata": {
    "collapsed": false,
    "pycharm": {
     "name": "#%%\n",
     "is_executing": false
    }
   }
  },
  {
   "cell_type": "code",
   "execution_count": 3,
   "outputs": [],
   "source": [
    "# Set hyperparameters \n",
    "hyperparameters = {}\n",
    "hyperparameters[\"num_topics\"] = 10"
   ],
   "metadata": {
    "collapsed": false,
    "pycharm": {
     "name": "#%%\n",
     "is_executing": false
    }
   }
  },
  {
   "cell_type": "code",
   "execution_count": 4,
   "outputs": [
    {
     "output_type": "execute_result",
     "data": {
      "text/plain": "True"
     },
     "metadata": {},
     "execution_count": 4
    }
   ],
   "source": [
    "# Train model\n",
    "model = LSI_Model(dataset, hyperparameters)  # Create model\n",
    "model.train_model()  # Train the model"
   ],
   "metadata": {
    "collapsed": false,
    "pycharm": {
     "name": "#%%\n",
     "is_executing": false
    }
   }
  },
  {
   "cell_type": "code",
   "execution_count": 5,
   "outputs": [
    {
     "output_type": "stream",
     "name": "stdout",
     "text": "[[ 0.01519347  0.01928953  0.00441248 ...  0.00667852  0.00669625\n   0.00078609]\n [-0.00769649 -0.0138225  -0.00016825 ...  0.0003724   0.0001977\n  -0.00097181]\n [-0.00392108 -0.01170342 -0.00360902 ... -0.00225547 -0.00203277\n  -0.00023086]\n ...\n [-0.01257219 -0.01680295 -0.00745398 ...  0.09249592  0.06825609\n   0.00012125]\n [ 0.02673144  0.02371561  0.00736244 ... -0.07410841 -0.05023952\n  -0.00039209]\n [-0.02158075  0.00171118 -0.00647892 ...  0.07495517  0.0611777\n   0.00786213]]\n(10, 2152)\n"
    }
   ],
   "source": [
    "topic_word_matrix = model.get_word_topic_weights()  # Compute topic word matrix\n",
    "\n",
    "print(topic_word_matrix)\n",
    "print(topic_word_matrix.shape)"
   ],
   "metadata": {
    "collapsed": false,
    "pycharm": {
     "name": "#%%\n",
     "is_executing": false
    }
   }
  },
  {
   "cell_type": "code",
   "execution_count": 6,
   "outputs": [
    {
     "output_type": "stream",
     "name": "stdout",
     "text": "0.43\n0.3511115473063999\n-0.4361819494323905\n-0.01875643196372723\n-2.0539397912492303\n"
    }
   ],
   "source": [
    "# Get different metrics score\n",
    "topk = 10\n",
    "print(model.get_topic_diversity(topk))\n",
    "print(model.get_coherence(topk, 'c_v'))\n",
    "print(model.get_coherence(topk, 'c_uci'))\n",
    "print(model.get_coherence(topk, 'c_npmi'))\n",
    "print(model.get_coherence(topk, 'u_mass'))"
   ],
   "metadata": {
    "collapsed": false,
    "pycharm": {
     "name": "#%%\n"
    }
   }
  }
 ],
 "metadata": {
  "kernelspec": {
   "display_name": "Python 3",
   "language": "python",
   "name": "python3"
  },
  "language_info": {
   "codemirror_mode": {
    "name": "ipython",
    "version": 2
   },
   "file_extension": ".py",
   "mimetype": "text/x-python",
   "name": "python",
   "nbconvert_exporter": "python",
   "pygments_lexer": "ipython2",
   "version": "3.7.5-final"
  },
  "pycharm": {
   "stem_cell": {
    "cell_type": "raw",
    "source": [],
    "metadata": {
     "collapsed": false
    }
   }
  }
 },
 "nbformat": 4,
 "nbformat_minor": 0
}